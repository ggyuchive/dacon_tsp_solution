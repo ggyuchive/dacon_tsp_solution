{
 "cells": [
  {
   "cell_type": "code",
   "execution_count": null,
   "metadata": {},
   "outputs": [],
   "source": [
    "import sys\n",
    "sys.path.append('/solver')\n",
    "\n",
    "from solver.greedySolver import GreedySolver\n",
    "greedy_solver = GreedySolver()\n",
    "greedy_solver.runTSPGreedy(100000)"
   ]
  },
  {
   "cell_type": "code",
   "execution_count": null,
   "metadata": {},
   "outputs": [],
   "source": []
  }
 ],
 "metadata": {
  "kernelspec": {
   "display_name": "Python 3.11.3 64-bit",
   "language": "python",
   "name": "python3"
  },
  "language_info": {
   "codemirror_mode": {
    "name": "ipython",
    "version": 3
   },
   "file_extension": ".py",
   "mimetype": "text/x-python",
   "name": "python",
   "nbconvert_exporter": "python",
   "pygments_lexer": "ipython3",
   "version": "3.11.3"
  },
  "orig_nbformat": 4,
  "vscode": {
   "interpreter": {
    "hash": "60a2924ed06665315f1a36ea4dfe988f120875e8ead44608002400e788ef710a"
   }
  }
 },
 "nbformat": 4,
 "nbformat_minor": 2
}
