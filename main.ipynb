{
 "cells": [
  {
   "cell_type": "code",
   "execution_count": 1,
   "metadata": {},
   "outputs": [
    {
     "ename": "TypeError",
     "evalue": "'list' object cannot be interpreted as an integer",
     "output_type": "error",
     "traceback": [
      "\u001b[1;31m---------------------------------------------------------------------------\u001b[0m",
      "\u001b[1;31mTypeError\u001b[0m                                 Traceback (most recent call last)",
      "Cell \u001b[1;32mIn[1], line 6\u001b[0m\n\u001b[0;32m      4\u001b[0m \u001b[38;5;28;01mfrom\u001b[39;00m \u001b[38;5;21;01msolver\u001b[39;00m\u001b[38;5;21;01m.\u001b[39;00m\u001b[38;5;21;01mgreedySolver\u001b[39;00m \u001b[38;5;28;01mimport\u001b[39;00m GreedySolver\n\u001b[0;32m      5\u001b[0m greedy_solver \u001b[38;5;241m=\u001b[39m GreedySolver()\n\u001b[1;32m----> 6\u001b[0m \u001b[43mgreedy_solver\u001b[49m\u001b[38;5;241;43m.\u001b[39;49m\u001b[43mrunRandomGreedy\u001b[49m\u001b[43m(\u001b[49m\u001b[43m)\u001b[49m\n",
      "File \u001b[1;32mc:\\Users\\박병규\\Desktop\\Github_folder\\dacon_tsp_solution\\solver\\greedySolver.py:38\u001b[0m, in \u001b[0;36mGreedySolver.runRandomGreedy\u001b[1;34m(self)\u001b[0m\n\u001b[0;32m     36\u001b[0m \u001b[39mfor\u001b[39;00m _ \u001b[39min\u001b[39;00m \u001b[39mrange\u001b[39m(Loop):\n\u001b[0;32m     37\u001b[0m     indices \u001b[39m=\u001b[39m \u001b[39mself\u001b[39m\u001b[39m.\u001b[39mgeneratePermutation()\n\u001b[1;32m---> 38\u001b[0m     ret \u001b[39m=\u001b[39m \u001b[39mself\u001b[39;49m\u001b[39m.\u001b[39;49mgetGreedyRoute(indices)\n\u001b[0;32m     39\u001b[0m     \u001b[39mprint\u001b[39m(\u001b[39mf\u001b[39m\u001b[39m\"\u001b[39m\u001b[39mRoute: \u001b[39m\u001b[39m{\u001b[39;00mret\u001b[39m}\u001b[39;00m\u001b[39m, Distance: \u001b[39m\u001b[39m{\u001b[39;00m\u001b[39mself\u001b[39m\u001b[39m.\u001b[39mgetRouteDiatance(ret)\u001b[39m}\u001b[39;00m\u001b[39m\"\u001b[39m)\n\u001b[0;32m     40\u001b[0m     \u001b[39mif\u001b[39;00m min_dist \u001b[39m>\u001b[39m \u001b[39mself\u001b[39m\u001b[39m.\u001b[39mgetRouteDiatance(ret):\n",
      "File \u001b[1;32mc:\\Users\\박병규\\Desktop\\Github_folder\\dacon_tsp_solution\\solver\\greedySolver.py:21\u001b[0m, in \u001b[0;36mGreedySolver.getGreedyRoute\u001b[1;34m(self, indices)\u001b[0m\n\u001b[0;32m     19\u001b[0m ret \u001b[39m=\u001b[39m []\n\u001b[0;32m     20\u001b[0m sum_cost \u001b[39m=\u001b[39m \u001b[39m0\u001b[39m\n\u001b[1;32m---> 21\u001b[0m \u001b[39mfor\u001b[39;00m index \u001b[39min\u001b[39;00m \u001b[39mrange\u001b[39;49m(indices):\n\u001b[0;32m     22\u001b[0m     \u001b[39mif\u001b[39;00m sum_cost \u001b[39m+\u001b[39m \u001b[39mself\u001b[39m\u001b[39m.\u001b[39mcost[index] \u001b[39m<\u001b[39m\u001b[39m=\u001b[39m \u001b[39m25\u001b[39m:\n\u001b[0;32m     23\u001b[0m         ret\u001b[39m.\u001b[39mappend(\u001b[39m0\u001b[39m)\n",
      "\u001b[1;31mTypeError\u001b[0m: 'list' object cannot be interpreted as an integer"
     ]
    }
   ],
   "source": [
    "import sys\n",
    "sys.path.append('/solver')\n",
    "\n",
    "from solver.greedySolver import GreedySolver\n",
    "greedy_solver = GreedySolver()\n",
    "greedy_solver.runRandomGreedy()"
   ]
  },
  {
   "cell_type": "code",
   "execution_count": null,
   "metadata": {},
   "outputs": [],
   "source": []
  }
 ],
 "metadata": {
  "kernelspec": {
   "display_name": "Python 3.11.3 64-bit",
   "language": "python",
   "name": "python3"
  },
  "language_info": {
   "codemirror_mode": {
    "name": "ipython",
    "version": 3
   },
   "file_extension": ".py",
   "mimetype": "text/x-python",
   "name": "python",
   "nbconvert_exporter": "python",
   "pygments_lexer": "ipython3",
   "version": "3.11.3"
  },
  "orig_nbformat": 4,
  "vscode": {
   "interpreter": {
    "hash": "60a2924ed06665315f1a36ea4dfe988f120875e8ead44608002400e788ef710a"
   }
  }
 },
 "nbformat": 4,
 "nbformat_minor": 2
}
